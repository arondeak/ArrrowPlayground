{
 "cells": [
  {
   "cell_type": "code",
   "execution_count": 5,
   "metadata": {
    "dotnet_interactive": {
     "language": "csharp"
    },
    "polyglot_notebook": {
     "kernelName": "csharp"
    }
   },
   "outputs": [
    {
     "data": {
      "text/html": [
       "<div><div></div><div></div><div><strong>Installed Packages</strong><ul><li><span>Apache.Arrow, 11.0.0</span></li></ul></div></div>"
      ]
     },
     "metadata": {},
     "output_type": "display_data"
    }
   ],
   "source": [
    "#r \"nuget:Apache.Arrow\""
   ]
  },
  {
   "cell_type": "code",
   "execution_count": 6,
   "metadata": {
    "dotnet_interactive": {
     "language": "csharp"
    },
    "polyglot_notebook": {
     "kernelName": "csharp"
    }
   },
   "outputs": [],
   "source": [
    "using System;\n",
    "using System.IO;\n",
    "using System.Threading.Tasks;\n",
    "using Apache.Arrow;\n",
    "using Apache.Arrow.Ipc;\n",
    "using Apache.Arrow.Types;"
   ]
  },
  {
   "cell_type": "code",
   "execution_count": 7,
   "metadata": {
    "dotnet_interactive": {
     "language": "csharp"
    },
    "polyglot_notebook": {
     "kernelName": "csharp"
    }
   },
   "outputs": [],
   "source": [
    "void CreateRandomFile(string path)\n",
    "{\n",
    "            // Generate random data\n",
    "        var random = new Random();\n",
    "        int numRows = 10;\n",
    "\n",
    "        var names = new string[] { \"Alice\", \"Bob\", \"Charlie\", \"David\", \"Eve\", \"Frank\", \"Grace\", \"Hank\", \"Iris\", \"John\" };\n",
    "        var nameBuilder = new StringArray.Builder();\n",
    "        var valueBuilder = new FloatArray.Builder();\n",
    "\n",
    "        for (int i = 0; i < numRows; i++)\n",
    "        {\n",
    "            nameBuilder.Append(names[random.Next(names.Length)]);\n",
    "            valueBuilder.Append((float)random.NextDouble() * 100);\n",
    "        }\n",
    "\n",
    "        // Create a RecordBatch with the generated data\n",
    "        var schema = new Schema.Builder()\n",
    "            .Field(f => f.Name(\"name\").DataType(StringType.Default))\n",
    "            .Field(f => f.Name(\"value\").DataType(FloatType.Default))\n",
    "            .Build();\n",
    "\n",
    "        var recordBatch = new RecordBatch(\n",
    "            schema,\n",
    "            new IArrowArray[] { nameBuilder.Build(), valueBuilder.Build() },\n",
    "            numRows\n",
    "        );\n",
    "\n",
    "        // Write the RecordBatch to an Arrow IPC file\n",
    "        using var stream = File.OpenWrite(path);\n",
    "        using var writer = new ArrowStreamWriter(stream, schema);\n",
    "        \n",
    "        writer.WriteRecordBatch(recordBatch);\n",
    "\n",
    "        Console.WriteLine($\"Random Arrow IPC file created at: {path}\");\n",
    "}"
   ]
  },
  {
   "cell_type": "code",
   "execution_count": 8,
   "metadata": {
    "dotnet_interactive": {
     "language": "csharp"
    },
    "polyglot_notebook": {
     "kernelName": "csharp"
    }
   },
   "outputs": [],
   "source": [
    "public IEnumerable<object> ReadFile(string path)\n",
    "{\n",
    "        // Read the Arrow IPC file into a RecordBatch\n",
    "        RecordBatch recordBatch;\n",
    "        using (var stream = File.OpenRead(path))\n",
    "        {\n",
    "            var reader = new ArrowStreamReader(stream);\n",
    "            recordBatch = reader.ReadNextRecordBatch();\n",
    "        }\n",
    "\n",
    "        // Access columns by name\n",
    "        StringArray nameColumn = recordBatch.Column(recordBatch.Schema.GetFieldIndex(\"name\")) as StringArray;\n",
    "        FloatArray valueColumn = recordBatch.Column(recordBatch.Schema.GetFieldIndex(\"value\")) as FloatArray;\n",
    "\n",
    "        // Print the contents of the columns\n",
    "        var ret = new List<object>();\n",
    "        for (int i = 0; i < recordBatch.Length; i++)\n",
    "        {\n",
    "            ret.Add((Name: nameColumn.GetString(i), Value: valueColumn.GetValue(i)));\n",
    "        }\n",
    "        return ret;\n",
    "}"
   ]
  },
  {
   "cell_type": "code",
   "execution_count": 17,
   "metadata": {
    "dotnet_interactive": {
     "language": "csharp"
    },
    "polyglot_notebook": {
     "kernelName": "csharp"
    }
   },
   "outputs": [
    {
     "name": "stdout",
     "output_type": "stream",
     "text": [
      "Random Arrow IPC file created at: /home/aron/ArrowPlayground/random_arrow_ipc_file.arrow\n"
     ]
    },
    {
     "data": {
      "text/html": [
       "<table><thead><tr><th><i>index</i></th><th>value</th></tr></thead><tbody><tr><td>0</td><td><details class=\"dni-treeview\"><summary><span class=\"dni-code-hint\"><code>(Grace, 1.7448843)</code></span></summary><div><table><thead><tr></tr></thead><tbody><tr><td>Item1</td><td>Grace</td></tr><tr><td>Item2</td><td><div class=\"dni-plaintext\"><pre>1.7448843</pre></div></td></tr></tbody></table></div></details></td></tr><tr><td>1</td><td><details class=\"dni-treeview\"><summary><span class=\"dni-code-hint\"><code>(Grace, 90.35024)</code></span></summary><div><table><thead><tr></tr></thead><tbody><tr><td>Item1</td><td>Grace</td></tr><tr><td>Item2</td><td><div class=\"dni-plaintext\"><pre>90.35024</pre></div></td></tr></tbody></table></div></details></td></tr><tr><td>2</td><td><details class=\"dni-treeview\"><summary><span class=\"dni-code-hint\"><code>(Iris, 8.6012125)</code></span></summary><div><table><thead><tr></tr></thead><tbody><tr><td>Item1</td><td>Iris</td></tr><tr><td>Item2</td><td><div class=\"dni-plaintext\"><pre>8.6012125</pre></div></td></tr></tbody></table></div></details></td></tr><tr><td>3</td><td><details class=\"dni-treeview\"><summary><span class=\"dni-code-hint\"><code>(Eve, 78.174675)</code></span></summary><div><table><thead><tr></tr></thead><tbody><tr><td>Item1</td><td>Eve</td></tr><tr><td>Item2</td><td><div class=\"dni-plaintext\"><pre>78.174675</pre></div></td></tr></tbody></table></div></details></td></tr><tr><td>4</td><td><details class=\"dni-treeview\"><summary><span class=\"dni-code-hint\"><code>(David, 50.894314)</code></span></summary><div><table><thead><tr></tr></thead><tbody><tr><td>Item1</td><td>David</td></tr><tr><td>Item2</td><td><div class=\"dni-plaintext\"><pre>50.894314</pre></div></td></tr></tbody></table></div></details></td></tr><tr><td>5</td><td><details class=\"dni-treeview\"><summary><span class=\"dni-code-hint\"><code>(Eve, 62.78351)</code></span></summary><div><table><thead><tr></tr></thead><tbody><tr><td>Item1</td><td>Eve</td></tr><tr><td>Item2</td><td><div class=\"dni-plaintext\"><pre>62.78351</pre></div></td></tr></tbody></table></div></details></td></tr><tr><td>6</td><td><details class=\"dni-treeview\"><summary><span class=\"dni-code-hint\"><code>(John, 13.651877)</code></span></summary><div><table><thead><tr></tr></thead><tbody><tr><td>Item1</td><td>John</td></tr><tr><td>Item2</td><td><div class=\"dni-plaintext\"><pre>13.651877</pre></div></td></tr></tbody></table></div></details></td></tr><tr><td>7</td><td><details class=\"dni-treeview\"><summary><span class=\"dni-code-hint\"><code>(Hank, 6.3881106)</code></span></summary><div><table><thead><tr></tr></thead><tbody><tr><td>Item1</td><td>Hank</td></tr><tr><td>Item2</td><td><div class=\"dni-plaintext\"><pre>6.3881106</pre></div></td></tr></tbody></table></div></details></td></tr><tr><td>8</td><td><details class=\"dni-treeview\"><summary><span class=\"dni-code-hint\"><code>(Frank, 25.696833)</code></span></summary><div><table><thead><tr></tr></thead><tbody><tr><td>Item1</td><td>Frank</td></tr><tr><td>Item2</td><td><div class=\"dni-plaintext\"><pre>25.696833</pre></div></td></tr></tbody></table></div></details></td></tr><tr><td>9</td><td><details class=\"dni-treeview\"><summary><span class=\"dni-code-hint\"><code>(David, 34.122314)</code></span></summary><div><table><thead><tr></tr></thead><tbody><tr><td>Item1</td><td>David</td></tr><tr><td>Item2</td><td><div class=\"dni-plaintext\"><pre>34.122314</pre></div></td></tr></tbody></table></div></details></td></tr></tbody></table><style>\r\n",
       ".dni-code-hint {\r\n",
       "    font-style: italic;\r\n",
       "    overflow: hidden;\r\n",
       "    white-space: nowrap;\r\n",
       "}\r\n",
       ".dni-treeview {\r\n",
       "    white-space: nowrap;\r\n",
       "}\r\n",
       ".dni-treeview td {\r\n",
       "    vertical-align: top;\r\n",
       "    text-align: start;\r\n",
       "}\r\n",
       "details.dni-treeview {\r\n",
       "    padding-left: 1em;\r\n",
       "}\r\n",
       "table td {\r\n",
       "    text-align: start;\r\n",
       "}\r\n",
       "table tr { \r\n",
       "    vertical-align: top; \r\n",
       "    margin: 0em 0px;\r\n",
       "}\r\n",
       "table tr td pre \r\n",
       "{ \r\n",
       "    vertical-align: top !important; \r\n",
       "    margin: 0em 0px !important;\r\n",
       "} \r\n",
       "table th {\r\n",
       "    text-align: start;\r\n",
       "}\r\n",
       "</style>"
      ]
     },
     "metadata": {},
     "output_type": "display_data"
    }
   ],
   "source": [
    "var path = \"/home/aron/ArrowPlayground/random_arrow_ipc_file.arrow\";\n",
    "CreateRandomFile(path);\n",
    "ReadFile(path)"
   ]
  },
  {
   "cell_type": "code",
   "execution_count": null,
   "metadata": {
    "dotnet_interactive": {
     "language": "csharp"
    },
    "polyglot_notebook": {
     "kernelName": "csharp"
    }
   },
   "outputs": [],
   "source": []
  }
 ],
 "metadata": {
  "kernelspec": {
   "display_name": ".NET (C#)",
   "language": "C#",
   "name": ".net-csharp"
  },
  "language_info": {
   "name": "polyglot-notebook"
  },
  "polyglot_notebook": {
   "kernelInfo": {
    "defaultKernelName": "csharp",
    "items": [
     {
      "aliases": [],
      "languageName": "csharp",
      "name": "csharp"
     }
    ]
   }
  }
 },
 "nbformat": 4,
 "nbformat_minor": 2
}
