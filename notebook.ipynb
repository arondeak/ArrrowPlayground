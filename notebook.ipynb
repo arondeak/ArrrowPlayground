{
 "cells": [
  {
   "cell_type": "code",
   "execution_count": 5,
   "metadata": {
    "dotnet_interactive": {
     "language": "csharp"
    },
    "polyglot_notebook": {
     "kernelName": "csharp"
    }
   },
   "outputs": [
    {
     "data": {
      "text/html": [
       "<div><div></div><div></div><div><strong>Installed Packages</strong><ul><li><span>Apache.Arrow, 11.0.0</span></li></ul></div></div>"
      ]
     },
     "metadata": {},
     "output_type": "display_data"
    }
   ],
   "source": [
    "#r \"nuget:Apache.Arrow\""
   ]
  },
  {
   "cell_type": "code",
   "execution_count": 6,
   "metadata": {
    "dotnet_interactive": {
     "language": "csharp"
    },
    "polyglot_notebook": {
     "kernelName": "csharp"
    }
   },
   "outputs": [],
   "source": [
    "using System;\n",
    "using System.IO;\n",
    "using System.Threading.Tasks;\n",
    "using Apache.Arrow;\n",
    "using Apache.Arrow.Ipc;\n",
    "using Apache.Arrow.Types;"
   ]
  },
  {
   "cell_type": "code",
   "execution_count": 7,
   "metadata": {
    "dotnet_interactive": {
     "language": "csharp"
    },
    "polyglot_notebook": {
     "kernelName": "csharp"
    }
   },
   "outputs": [],
   "source": [
    "void CreateRandomFile(string path)\n",
    "{\n",
    "            // Generate random data\n",
    "        var random = new Random();\n",
    "        int numRows = 10;\n",
    "\n",
    "        var names = new string[] { \"Alice\", \"Bob\", \"Charlie\", \"David\", \"Eve\", \"Frank\", \"Grace\", \"Hank\", \"Iris\", \"John\" };\n",
    "        var nameBuilder = new StringArray.Builder();\n",
    "        var valueBuilder = new FloatArray.Builder();\n",
    "\n",
    "        for (int i = 0; i < numRows; i++)\n",
    "        {\n",
    "            nameBuilder.Append(names[random.Next(names.Length)]);\n",
    "            valueBuilder.Append((float)random.NextDouble() * 100);\n",
    "        }\n",
    "\n",
    "        // Create a RecordBatch with the generated data\n",
    "        var schema = new Schema.Builder()\n",
    "            .Field(f => f.Name(\"name\").DataType(StringType.Default))\n",
    "            .Field(f => f.Name(\"value\").DataType(FloatType.Default))\n",
    "            .Build();\n",
    "\n",
    "        var recordBatch = new RecordBatch(\n",
    "            schema,\n",
    "            new IArrowArray[] { nameBuilder.Build(), valueBuilder.Build() },\n",
    "            numRows\n",
    "        );\n",
    "\n",
    "        // Write the RecordBatch to an Arrow IPC file\n",
    "        using var stream = File.OpenWrite(path);\n",
    "        using var writer = new ArrowStreamWriter(stream, schema);\n",
    "        \n",
    "        writer.WriteRecordBatch(recordBatch);\n",
    "\n",
    "        Console.WriteLine($\"Random Arrow IPC file created at: {path}\");\n",
    "}"
   ]
  },
  {
   "cell_type": "code",
   "execution_count": 8,
   "metadata": {
    "dotnet_interactive": {
     "language": "csharp"
    },
    "polyglot_notebook": {
     "kernelName": "csharp"
    }
   },
   "outputs": [],
   "source": [
    "public IEnumerable<object> ReadFile(string path)\n",
    "{\n",
    "        // Read the Arrow IPC file into a RecordBatch\n",
    "        RecordBatch recordBatch;\n",
    "        using (var stream = File.OpenRead(path))\n",
    "        {\n",
    "            var reader = new ArrowStreamReader(stream);\n",
    "            recordBatch = reader.ReadNextRecordBatch();\n",
    "        }\n",
    "\n",
    "        // Access columns by name\n",
    "        StringArray nameColumn = recordBatch.Column(recordBatch.Schema.GetFieldIndex(\"name\")) as StringArray;\n",
    "        FloatArray valueColumn = recordBatch.Column(recordBatch.Schema.GetFieldIndex(\"value\")) as FloatArray;\n",
    "\n",
    "        // Print the contents of the columns\n",
    "        var ret = new List<object>();\n",
    "        for (int i = 0; i < recordBatch.Length; i++)\n",
    "        {\n",
    "            ret.Add((Name: nameColumn.GetString(i), Value: valueColumn.GetValue(i)));\n",
    "        }\n",
    "        return ret;\n",
    "}"
   ]
  },
  {
   "cell_type": "code",
   "execution_count": 16,
   "metadata": {
    "dotnet_interactive": {
     "language": "csharp"
    },
    "polyglot_notebook": {
     "kernelName": "csharp"
    }
   },
   "outputs": [
    {
     "ename": "Error",
     "evalue": "System.IO.DirectoryNotFoundException: Could not find a part of the path '/home/arond/ArrowPlayground/random_arrow_ipc_file.arrow'.\n   at Interop.ThrowExceptionForIoErrno(ErrorInfo errorInfo, String path, Boolean isDirError)\n   at Microsoft.Win32.SafeHandles.SafeFileHandle.Open(String fullPath, FileMode mode, FileAccess access, FileShare share, FileOptions options, Int64 preallocationSize, UnixFileMode openPermissions, Int64& fileLength, UnixFileMode& filePermissions, Func`4 createOpenException)\n   at System.IO.Strategies.OSFileStreamStrategy..ctor(String path, FileMode mode, FileAccess access, FileShare share, FileOptions options, Int64 preallocationSize, Nullable`1 unixCreateMode)\n   at System.IO.File.OpenWrite(String path)\n   at Submission#7.CreateRandomFile(String path)\n   at Submission#16.<<Initialize>>d__0.MoveNext()\n--- End of stack trace from previous location ---\n   at Microsoft.CodeAnalysis.Scripting.ScriptExecutionState.RunSubmissionsAsync[TResult](ImmutableArray`1 precedingExecutors, Func`2 currentExecutor, StrongBox`1 exceptionHolderOpt, Func`2 catchExceptionOpt, CancellationToken cancellationToken)",
     "output_type": "error",
     "traceback": [
      "System.IO.DirectoryNotFoundException: Could not find a part of the path '/home/arond/ArrowPlayground/random_arrow_ipc_file.arrow'.\n",
      "   at Interop.ThrowExceptionForIoErrno(ErrorInfo errorInfo, String path, Boolean isDirError)\n",
      "   at Microsoft.Win32.SafeHandles.SafeFileHandle.Open(String fullPath, FileMode mode, FileAccess access, FileShare share, FileOptions options, Int64 preallocationSize, UnixFileMode openPermissions, Int64& fileLength, UnixFileMode& filePermissions, Func`4 createOpenException)\n",
      "   at System.IO.Strategies.OSFileStreamStrategy..ctor(String path, FileMode mode, FileAccess access, FileShare share, FileOptions options, Int64 preallocationSize, Nullable`1 unixCreateMode)\n",
      "   at System.IO.File.OpenWrite(String path)\n",
      "   at Submission#7.CreateRandomFile(String path)\n",
      "   at Submission#16.<<Initialize>>d__0.MoveNext()\n",
      "--- End of stack trace from previous location ---\n",
      "   at Microsoft.CodeAnalysis.Scripting.ScriptExecutionState.RunSubmissionsAsync[TResult](ImmutableArray`1 precedingExecutors, Func`2 currentExecutor, StrongBox`1 exceptionHolderOpt, Func`2 catchExceptionOpt, CancellationToken cancellationToken)"
     ]
    }
   ],
   "source": [
    "var path = \"/home/aron/ArrowPlayground/random_arrow_ipc_file.arrow\";\n",
    "CreateRandomFile(path);\n",
    "ReadFile(path)"
   ]
  },
  {
   "cell_type": "code",
   "execution_count": null,
   "metadata": {
    "dotnet_interactive": {
     "language": "csharp"
    },
    "polyglot_notebook": {
     "kernelName": "csharp"
    }
   },
   "outputs": [],
   "source": []
  }
 ],
 "metadata": {
  "kernelspec": {
   "display_name": ".NET (C#)",
   "language": "C#",
   "name": ".net-csharp"
  },
  "language_info": {
   "name": "polyglot-notebook"
  },
  "polyglot_notebook": {
   "kernelInfo": {
    "defaultKernelName": "csharp",
    "items": [
     {
      "aliases": [],
      "languageName": "csharp",
      "name": "csharp"
     }
    ]
   }
  }
 },
 "nbformat": 4,
 "nbformat_minor": 2
}
